{
 "cells": [
  {
   "cell_type": "markdown",
   "metadata": {},
   "source": [
    "Portions of the code below have been adapted from tutorials/methods found at: \n",
    "+ https://stackabuse.com/implementing-pca-in-python-with-scikit-learn/\n",
    "+ http://benalexkeen.com/scoring-classifier-models-using-scikit-learn/\n",
    "+ https://stackoverflow.com/questions/19233771/sklearn-plot-confusion-matrix-with-labels\n",
    "+ http://benalexkeen.com/mapping-categorical-data-in-pandas/\n"
   ]
  },
  {
   "cell_type": "code",
   "execution_count": 1,
   "metadata": {
    "ExecuteTime": {
     "end_time": "2019-04-29T23:48:01.039633Z",
     "start_time": "2019-04-29T23:47:56.514859Z"
    }
   },
   "outputs": [],
   "source": [
    "#IMPORT NECCESSSARY LIBRARIES AND PACKAGES\n",
    "\n",
    "import pandas as pd\n",
    "from sklearn.preprocessing import StandardScaler\n",
    "from sklearn.decomposition import PCA\n",
    "from sklearn.model_selection import train_test_split\n",
    "from sklearn.ensemble import RandomForestClassifier\n",
    "from sklearn.metrics import confusion_matrix  \n",
    "from sklearn.metrics import accuracy_score\n",
    "from sklearn.discriminant_analysis import LinearDiscriminantAnalysis as LDA\n",
    "from sklearn.metrics import classification_report\n",
    "import matplotlib.pyplot as plt\n",
    "from sklearn.neighbors import KNeighborsClassifier\n",
    "from sklearn.linear_model import LogisticRegression\n",
    "import numpy as np\n",
    "from sklearn.svm import SVC  \n",
    "\n",
    "import numpy as np\n",
    "from scipy import interp\n",
    "import matplotlib.pyplot as plt\n",
    "\n",
    "from sklearn import svm, datasets\n",
    "from sklearn.metrics import roc_curve, auc\n",
    "from sklearn.model_selection import StratifiedKFold\n",
    "\n",
    "\n",
    "# DISABLE WARNINGS\n",
    "import warnings\n",
    "warnings.filterwarnings('ignore')"
   ]
  },
  {
   "cell_type": "code",
   "execution_count": 2,
   "metadata": {
    "ExecuteTime": {
     "end_time": "2019-04-29T23:48:01.108896Z",
     "start_time": "2019-04-29T23:48:01.044604Z"
    }
   },
   "outputs": [],
   "source": [
    "#hourly data from LaGuardia Airport (LGA) data from 2/28/19 - 3/26/19\n",
    "#obtained via wunderground.com historical weather portal\n",
    "# shifted +12 hours .. (i.e. midnight weather will join with Noon waiting data)\n",
    "\n",
    "weather = pd.read_csv(\"KLGA-NOAA - Data-KLGA-NOAA.csv\") \n",
    "\n",
    "#hourly data for 14 hospitals data from 2/28/19 - 3/26/19\n",
    "#obtained by scraping the Northwell Health Emergency Room waiting time webpage\n",
    "\n",
    "waits = pd.read_csv(\"Waiting Times to Feb28April5 - Data.csv\") \n"
   ]
  },
  {
   "cell_type": "code",
   "execution_count": 3,
   "metadata": {
    "ExecuteTime": {
     "end_time": "2019-04-29T23:48:01.154677Z",
     "start_time": "2019-04-29T23:48:01.112094Z"
    }
   },
   "outputs": [
    {
     "data": {
      "text/plain": [
       "date_time                     object\n",
       "Date                          object\n",
       "Time                          object\n",
       "HourlyAltimeterSetting       float64\n",
       "HourlyDewPointTemperature    float64\n",
       "HourlyDryBulbTemperature      object\n",
       "HourlyPrecipitation           object\n",
       "HourlyPresentWeatherType      object\n",
       "FG                             int64\n",
       "DZ                             int64\n",
       "BR                             int64\n",
       "SN                             int64\n",
       "RA                             int64\n",
       "PL                             int64\n",
       "TS                             int64\n",
       "WeatherTypeReported            int64\n",
       "HourlyRelativeHumidity       float64\n",
       "HourlySeaLevelPressure       float64\n",
       "HourlySkyConditions           object\n",
       "CLR                            int64\n",
       "FEW                            int64\n",
       "SCT                            int64\n",
       "BKN                            int64\n",
       "OVC                            int64\n",
       "VV                             int64\n",
       "CloudCoverReported             int64\n",
       "HourlyStationPressure        float64\n",
       "HourlyVisibility             float64\n",
       "HourlyWetBulbTemperature     float64\n",
       "HourlyWindDirection           object\n",
       "HourlyWindGustSpeed          float64\n",
       "HourlyWindSpeed                int64\n",
       "dtype: object"
      ]
     },
     "execution_count": 3,
     "metadata": {},
     "output_type": "execute_result"
    }
   ],
   "source": [
    "weather.dtypes"
   ]
  },
  {
   "cell_type": "code",
   "execution_count": 4,
   "metadata": {
    "ExecuteTime": {
     "end_time": "2019-04-29T23:48:01.180994Z",
     "start_time": "2019-04-29T23:48:01.159977Z"
    }
   },
   "outputs": [
    {
     "data": {
      "text/plain": [
       "date_time                     object\n",
       "HourlyAltimeterSetting       float64\n",
       "HourlyDewPointTemperature    float64\n",
       "FG                             int64\n",
       "DZ                             int64\n",
       "BR                             int64\n",
       "SN                             int64\n",
       "RA                             int64\n",
       "PL                             int64\n",
       "TS                             int64\n",
       "WeatherTypeReported            int64\n",
       "HourlyRelativeHumidity       float64\n",
       "CLR                            int64\n",
       "FEW                            int64\n",
       "SCT                            int64\n",
       "BKN                            int64\n",
       "OVC                            int64\n",
       "VV                             int64\n",
       "CloudCoverReported             int64\n",
       "HourlyVisibility             float64\n",
       "HourlyWindSpeed                int64\n",
       "HourlyWindGustSpeed          float64\n",
       "dtype: object"
      ]
     },
     "execution_count": 4,
     "metadata": {},
     "output_type": "execute_result"
    }
   ],
   "source": [
    "weather = weather[['date_time','HourlyAltimeterSetting','HourlyDewPointTemperature',\\\n",
    "                   'FG','DZ','BR','SN','RA','PL','TS','WeatherTypeReported',\\\n",
    "                   'HourlyRelativeHumidity','CLR','FEW','SCT','BKN','OVC','VV','CloudCoverReported',\\\n",
    "                   'HourlyVisibility','HourlyWindSpeed','HourlyWindGustSpeed'\\\n",
    "                  ]]\n",
    "weather.dtypes"
   ]
  },
  {
   "cell_type": "code",
   "execution_count": 5,
   "metadata": {
    "ExecuteTime": {
     "end_time": "2019-04-29T23:48:01.194471Z",
     "start_time": "2019-04-29T23:48:01.186401Z"
    }
   },
   "outputs": [
    {
     "data": {
      "text/plain": [
       "date_time    object\n",
       "wait          int64\n",
       "Hospital     object\n",
       "dtype: object"
      ]
     },
     "execution_count": 5,
     "metadata": {},
     "output_type": "execute_result"
    }
   ],
   "source": [
    "waits.dtypes"
   ]
  },
  {
   "cell_type": "code",
   "execution_count": 6,
   "metadata": {
    "ExecuteTime": {
     "end_time": "2019-04-29T23:48:03.225813Z",
     "start_time": "2019-04-29T23:48:01.197440Z"
    }
   },
   "outputs": [],
   "source": [
    "# Convert string date_times to pandas date_times\n",
    "weather['date_time'] = pd.to_datetime(weather['date_time'])\n",
    "waits['date_time'] = pd.to_datetime(waits['date_time'])\n",
    "\n",
    "# Add 1 sec to the weather data to match the waiting time data\n",
    "weather['date_time'] = weather['date_time'] + pd.to_timedelta(1, unit='s')\n",
    "\n",
    "#dropna from waiting time data (2 hospitals never reported)\n",
    "waits = waits.dropna()\n",
    "waits = waits.reset_index(drop=True)"
   ]
  },
  {
   "cell_type": "code",
   "execution_count": 7,
   "metadata": {
    "ExecuteTime": {
     "end_time": "2019-04-29T23:48:03.307047Z",
     "start_time": "2019-04-29T23:48:03.228498Z"
    }
   },
   "outputs": [],
   "source": [
    "#df['DOB1'] = df['DOB'].dt.strftime('%m/%d/%Y')\n",
    "weather['hour'] = weather['date_time'].dt.strftime('%H').astype(int)\n",
    "weather['ampm'] = weather['date_time'].dt.strftime('%p')\n",
    "weather['ampm'] = weather.ampm.astype(\"category\").cat.codes"
   ]
  },
  {
   "cell_type": "code",
   "execution_count": 8,
   "metadata": {
    "ExecuteTime": {
     "end_time": "2019-04-29T23:48:03.323339Z",
     "start_time": "2019-04-29T23:48:03.313499Z"
    }
   },
   "outputs": [],
   "source": [
    "#waits = waits[waits['Hospital']=='Huntington Hospital']"
   ]
  },
  {
   "cell_type": "code",
   "execution_count": 9,
   "metadata": {
    "ExecuteTime": {
     "end_time": "2019-04-29T23:48:03.680933Z",
     "start_time": "2019-04-29T23:48:03.486286Z"
    }
   },
   "outputs": [],
   "source": [
    "# GroupBy Average Waiting Times across each of 14 hospitals\n",
    "waiting_gb = waits.groupby('date_time')['wait'].mean().reset_index()\n",
    "\n",
    "#Set utilization based on threshold\n",
    "threshold_low = 25\n",
    "threshold_high =30\n",
    "waiting_gb['utilization'] = 0\n",
    "waiting_gb['utilization'][waiting_gb.wait >= threshold_low] = -99\n",
    "waiting_gb['utilization'][waiting_gb.wait >= threshold_high] = 1\n",
    "\n",
    "waiting_gb = waiting_gb[waiting_gb.utilization != -99]"
   ]
  },
  {
   "cell_type": "code",
   "execution_count": 10,
   "metadata": {
    "ExecuteTime": {
     "end_time": "2019-04-29T23:48:03.939178Z",
     "start_time": "2019-04-29T23:48:03.920446Z"
    }
   },
   "outputs": [
    {
     "data": {
      "text/plain": [
       "0    308\n",
       "1    306\n",
       "Name: utilization, dtype: int64"
      ]
     },
     "execution_count": 10,
     "metadata": {},
     "output_type": "execute_result"
    }
   ],
   "source": [
    "waiting_gb.utilization.value_counts()"
   ]
  },
  {
   "cell_type": "code",
   "execution_count": 11,
   "metadata": {
    "ExecuteTime": {
     "end_time": "2019-04-29T23:48:04.221523Z",
     "start_time": "2019-04-29T23:48:04.203433Z"
    }
   },
   "outputs": [],
   "source": [
    "# Merge the 2 data frames on 'date_time' field\n",
    "weather_wait = pd.merge(weather, waiting_gb, on='date_time')"
   ]
  },
  {
   "cell_type": "code",
   "execution_count": 12,
   "metadata": {
    "ExecuteTime": {
     "end_time": "2019-04-29T23:48:04.397299Z",
     "start_time": "2019-04-29T23:48:04.391035Z"
    }
   },
   "outputs": [
    {
     "data": {
      "text/plain": [
       "Index(['date_time', 'HourlyAltimeterSetting', 'HourlyDewPointTemperature',\n",
       "       'FG', 'DZ', 'BR', 'SN', 'RA', 'PL', 'TS', 'WeatherTypeReported',\n",
       "       'HourlyRelativeHumidity', 'CLR', 'FEW', 'SCT', 'BKN', 'OVC', 'VV',\n",
       "       'CloudCoverReported', 'HourlyVisibility', 'HourlyWindSpeed',\n",
       "       'HourlyWindGustSpeed', 'hour', 'ampm', 'wait', 'utilization'],\n",
       "      dtype='object')"
      ]
     },
     "execution_count": 12,
     "metadata": {},
     "output_type": "execute_result"
    }
   ],
   "source": [
    "# Review the current field types\n",
    "weather_wait.columns"
   ]
  },
  {
   "cell_type": "code",
   "execution_count": 13,
   "metadata": {
    "ExecuteTime": {
     "end_time": "2019-04-29T23:48:05.144249Z",
     "start_time": "2019-04-29T23:48:05.134616Z"
    }
   },
   "outputs": [],
   "source": [
    "# Create a dataframe which contains the feature data\n",
    "pca_data = weather_wait[[\n",
    "    'HourlyAltimeterSetting', 'HourlyDewPointTemperature',\n",
    "       'FG', 'DZ', 'BR', 'SN', 'RA', 'PL', 'TS', 'WeatherTypeReported',\n",
    "       'HourlyRelativeHumidity', 'CLR', 'FEW', 'SCT', 'BKN', 'OVC', 'VV',\n",
    "       'CloudCoverReported', 'HourlyVisibility', 'HourlyWindSpeed'\n",
    "    #,\n",
    "    #                   'ampm','hour'\n",
    "                        ]]\n",
    "\n",
    "# Create a dataframe which contains the target values\n",
    "pca_target = weather_wait[['utilization']]"
   ]
  },
  {
   "cell_type": "code",
   "execution_count": 14,
   "metadata": {
    "ExecuteTime": {
     "end_time": "2019-04-29T23:48:05.881485Z",
     "start_time": "2019-04-29T23:48:05.872386Z"
    }
   },
   "outputs": [
    {
     "data": {
      "text/plain": [
       "0    568\n",
       "Name: FG, dtype: int64"
      ]
     },
     "execution_count": 14,
     "metadata": {},
     "output_type": "execute_result"
    }
   ],
   "source": [
    "pca_data.FG.value_counts()"
   ]
  },
  {
   "cell_type": "code",
   "execution_count": 15,
   "metadata": {
    "ExecuteTime": {
     "end_time": "2019-04-29T23:48:06.399425Z",
     "start_time": "2019-04-29T23:48:06.389125Z"
    }
   },
   "outputs": [
    {
     "data": {
      "text/plain": [
       "568"
      ]
     },
     "execution_count": 15,
     "metadata": {},
     "output_type": "execute_result"
    }
   ],
   "source": [
    "data_size = pca_data['HourlyAltimeterSetting'].count()\n",
    "data_size75 = int(data_size*.75)\n",
    "data_size"
   ]
  },
  {
   "cell_type": "code",
   "execution_count": 16,
   "metadata": {
    "ExecuteTime": {
     "end_time": "2019-04-29T23:48:07.145741Z",
     "start_time": "2019-04-29T23:48:07.137888Z"
    }
   },
   "outputs": [
    {
     "data": {
      "text/plain": [
       "1    285\n",
       "0    283\n",
       "Name: utilization, dtype: int64"
      ]
     },
     "execution_count": 16,
     "metadata": {},
     "output_type": "execute_result"
    }
   ],
   "source": [
    "pca_target.utilization.value_counts()"
   ]
  },
  {
   "cell_type": "code",
   "execution_count": 17,
   "metadata": {
    "ExecuteTime": {
     "end_time": "2019-04-29T23:48:07.710791Z",
     "start_time": "2019-04-29T23:48:07.702452Z"
    }
   },
   "outputs": [],
   "source": [
    "# Standardize our data and target as X, y\n",
    "X = pca_data.head(data_size75)\n",
    "y = pca_target.head(data_size75)\n",
    "X_train = X\n",
    "y_train = y\n",
    "\n",
    "X_holdout = pca_data.tail(data_size - data_size75)\n",
    "y_holdout  = pca_target.tail(data_size - data_size75)\n",
    "\n",
    "# Perform a train/test split on our data\n",
    "#X_train, X_test, y_train, y_test = train_test_split(X, y, test_size=.01, random_state=0)  \n",
    "#X_train = X_train.reset_index()"
   ]
  },
  {
   "cell_type": "code",
   "execution_count": 18,
   "metadata": {
    "ExecuteTime": {
     "end_time": "2019-04-29T23:48:08.270397Z",
     "start_time": "2019-04-29T23:48:08.232846Z"
    }
   },
   "outputs": [],
   "source": [
    "# Standardize our feature data (best practice for PCA)\n",
    "sc = StandardScaler()  \n",
    "X_train = sc.fit_transform(X_train)  \n",
    "#X_test = sc.transform(X_test)  \n",
    "X_holdout = sc.fit_transform(X_holdout)"
   ]
  },
  {
   "cell_type": "code",
   "execution_count": 19,
   "metadata": {
    "ExecuteTime": {
     "end_time": "2019-04-29T23:48:08.673277Z",
     "start_time": "2019-04-29T23:48:08.668237Z"
    }
   },
   "outputs": [],
   "source": [
    "np.isnan(X_train)\n",
    "np.where(np.isnan(X_train))\n",
    "X_train = np.nan_to_num(X_train)"
   ]
  },
  {
   "cell_type": "code",
   "execution_count": 20,
   "metadata": {
    "ExecuteTime": {
     "end_time": "2019-04-29T23:48:09.154219Z",
     "start_time": "2019-04-29T23:48:09.150000Z"
    }
   },
   "outputs": [],
   "source": [
    "# Perform PCA and output the explained variances\n",
    "#component_value=4\n",
    "#pca = PCA(n_components=3)  \n",
    "#X_train = pca.fit_transform(X_train)  \n",
    "#X_test = pca.transform(X_test)  \n",
    "#explained_variance = pca.explained_variance_ratio_  \n",
    "#explained_variance"
   ]
  },
  {
   "cell_type": "code",
   "execution_count": 21,
   "metadata": {
    "ExecuteTime": {
     "end_time": "2019-04-29T23:48:10.026532Z",
     "start_time": "2019-04-29T23:48:09.936067Z"
    }
   },
   "outputs": [
    {
     "data": {
      "text/plain": [
       "array([0.29443842, 0.12106458])"
      ]
     },
     "execution_count": 21,
     "metadata": {},
     "output_type": "execute_result"
    }
   ],
   "source": [
    "#https://towardsdatascience.com/pca-using-python-scikit-learn-e653f8989e60\n",
    "pca = PCA(n_components=2)\n",
    "principalComponents = pca.fit_transform(X_train)\n",
    "principalDf = pd.DataFrame(data = principalComponents\n",
    "             , columns = [\n",
    "                 'pc1', 'pc2'\n",
    "                # ,'pc3','pc4','pc5','pc6','pc7','pc8''pc9','pc10','pc11','pc12','pc13',\n",
    "                #    'pc14','pc15','pc16','pc17','pc18','pc19','pc20','pc21'\n",
    "                 #,\n",
    "#                          'pc22','pc23'\n",
    "                         ])\n",
    "explained_variance = pca.explained_variance_ratio_  \n",
    "explained_variance"
   ]
  },
  {
   "cell_type": "code",
   "execution_count": 22,
   "metadata": {
    "ExecuteTime": {
     "end_time": "2019-04-29T23:48:12.528123Z",
     "start_time": "2019-04-29T23:48:12.521411Z"
    }
   },
   "outputs": [],
   "source": [
    "finalDf = pd.concat([principalDf, y_train], axis = 1)"
   ]
  },
  {
   "cell_type": "code",
   "execution_count": 23,
   "metadata": {
    "ExecuteTime": {
     "end_time": "2019-04-29T23:48:13.648319Z",
     "start_time": "2019-04-29T23:48:13.159907Z"
    }
   },
   "outputs": [
    {
     "data": {
      "image/png": "[encoded data removed]",
      "text/plain": [
       "<Figure size 576x576 with 1 Axes>"
      ]
     },
     "metadata": {
      "needs_background": "light"
     },
     "output_type": "display_data"
    }
   ],
   "source": [
    "fig = plt.figure(figsize = (8,8))\n",
    "ax = fig.add_subplot(1,1,1) \n",
    "ax.set_xlabel('Principal Component 1', fontsize = 15)\n",
    "ax.set_ylabel('Principal Component 2', fontsize = 15)\n",
    "ax.set_title('2 component PCA', fontsize = 20)\n",
    "targets = [0, 1]\n",
    "colors = ['r', 'g']\n",
    "for utilization, color in zip(targets,colors):\n",
    "    indicesToKeep = finalDf['utilization'] == utilization\n",
    "    ax.scatter(finalDf.loc[indicesToKeep, 'pc1']\n",
    "               , finalDf.loc[indicesToKeep, 'pc2']\n",
    "               , c = color\n",
    "               , s = 50)\n",
    "ax.legend(targets)\n",
    "ax.grid()"
   ]
  },
  {
   "cell_type": "code",
   "execution_count": 24,
   "metadata": {
    "ExecuteTime": {
     "end_time": "2019-04-29T23:48:14.389032Z",
     "start_time": "2019-04-29T23:48:14.381056Z"
    }
   },
   "outputs": [
    {
     "data": {
      "text/plain": [
       "1    78\n",
       "0    64\n",
       "Name: utilization, dtype: int64"
      ]
     },
     "execution_count": 24,
     "metadata": {},
     "output_type": "execute_result"
    }
   ],
   "source": [
    "y_holdout['utilization'].value_counts()"
   ]
  },
  {
   "cell_type": "code",
   "execution_count": 25,
   "metadata": {
    "ExecuteTime": {
     "end_time": "2019-04-29T23:48:14.694946Z",
     "start_time": "2019-04-29T23:48:14.684484Z"
    }
   },
   "outputs": [
    {
     "data": {
      "text/plain": [
       "0    219\n",
       "1    207\n",
       "Name: utilization, dtype: int64"
      ]
     },
     "execution_count": 25,
     "metadata": {},
     "output_type": "execute_result"
    }
   ],
   "source": [
    "y_train['utilization'].value_counts()"
   ]
  },
  {
   "cell_type": "markdown",
   "metadata": {
    "ExecuteTime": {
     "end_time": "2019-03-27T12:56:30.434405Z",
     "start_time": "2019-03-27T12:56:30.428565Z"
    }
   },
   "source": [
    "The 1st 4 components represent about 75% of the variance. (0.23, 0.20, 0.13, 0.10)"
   ]
  },
  {
   "cell_type": "code",
   "execution_count": 26,
   "metadata": {
    "ExecuteTime": {
     "end_time": "2019-04-29T23:48:16.121228Z",
     "start_time": "2019-04-29T23:48:15.772710Z"
    }
   },
   "outputs": [
    {
     "name": "stdout",
     "output_type": "stream",
     "text": [
      "1 0.5633802816901409\n",
      "2 0.6056338028169014\n",
      "3 0.5422535211267606\n",
      "4 0.5211267605633803\n",
      "5 0.6619718309859155\n",
      "6 0.5915492957746479\n",
      "7 0.6126760563380281\n",
      "8 0.6197183098591549\n",
      "9 0.5633802816901409\n",
      "10 0.5985915492957746\n",
      "11 0.5211267605633803\n",
      "12 0.6338028169014085\n",
      "13 0.5633802816901409\n",
      "14 0.6056338028169014\n",
      "15 0.6267605633802817\n",
      "16 0.6126760563380281\n",
      "17 0.5915492957746479\n",
      "18 0.6056338028169014\n",
      "19 0.6197183098591549\n",
      "20 0.5915492957746479\n"
     ]
    }
   ],
   "source": [
    "# Setup our Random Forest classifier and run a prediction to determine best depth\n",
    "\n",
    "for i in range(0,20,1):\n",
    "  classifier = RandomForestClassifier(max_depth=i+1, random_state=0)  \n",
    "  classifier.fit(X_train, y_train)\n",
    "# Predicting the Test set results\n",
    "  y_pred = classifier.predict(X_holdout) \n",
    "  print(i+1, accuracy_score(y_holdout, y_pred))"
   ]
  },
  {
   "cell_type": "code",
   "execution_count": 27,
   "metadata": {
    "ExecuteTime": {
     "end_time": "2019-04-29T23:48:16.662365Z",
     "start_time": "2019-04-29T23:48:16.624102Z"
    }
   },
   "outputs": [
    {
     "name": "stdout",
     "output_type": "stream",
     "text": [
      "[[45 19]\n",
      " [37 41]]\n",
      "Accuracy\n",
      "0.6056338028169014\n",
      "              precision    recall  f1-score   support\n",
      "\n",
      "           0       0.55      0.70      0.62        64\n",
      "           1       0.68      0.53      0.59        78\n",
      "\n",
      "   micro avg       0.61      0.61      0.61       142\n",
      "   macro avg       0.62      0.61      0.61       142\n",
      "weighted avg       0.62      0.61      0.60       142\n",
      "\n"
     ]
    }
   ],
   "source": [
    "# Setup our Random Forest classifier with our best depth (2)\n",
    "\n",
    "rclassifier = RandomForestClassifier(max_depth=2, random_state=0)  \n",
    "rclassifier.fit(X_train, y_train)\n",
    "\n",
    "# Predicting the Test set results\n",
    "y_pred = rclassifier.predict(X_holdout) \n",
    "\n",
    "# Create a confusion matrix to illustrate our results\n",
    "cm_rf = confusion_matrix(y_holdout, y_pred)  \n",
    "print(cm_rf)  \n",
    "\n",
    "# Print our accuracy score\n",
    "print('Accuracy')  \n",
    "print(accuracy_score(y_holdout, y_pred))\n",
    "print(classification_report(y_holdout, y_pred))"
   ]
  },
  {
   "cell_type": "code",
   "execution_count": 28,
   "metadata": {
    "ExecuteTime": {
     "end_time": "2019-04-29T23:48:17.231524Z",
     "start_time": "2019-04-29T23:48:17.089156Z"
    }
   },
   "outputs": [
    {
     "name": "stdout",
     "output_type": "stream",
     "text": [
      "1 0.528169014084507\n",
      "2 0.5563380281690141\n",
      "3 0.6056338028169014\n",
      "4 0.5915492957746479\n",
      "5 0.5633802816901409\n",
      "6 0.5774647887323944\n",
      "7 0.5915492957746479\n",
      "8 0.6408450704225352\n",
      "9 0.6338028169014085\n",
      "10 0.6549295774647887\n",
      "11 0.647887323943662\n",
      "12 0.6549295774647887\n",
      "13 0.676056338028169\n",
      "14 0.6619718309859155\n",
      "15 0.6690140845070423\n",
      "16 0.6408450704225352\n",
      "17 0.6619718309859155\n",
      "18 0.6197183098591549\n",
      "19 0.6267605633802817\n"
     ]
    }
   ],
   "source": [
    "# Set up our KNN classifier and run predictions to determine optimal neighbors\n",
    "for i in range(1, 20):  \n",
    "    knn = KNeighborsClassifier(n_neighbors=i)\n",
    "    knn.fit(X_train, y_train)\n",
    "    y_pred = knn.predict(X_holdout)\n",
    "    print(i, accuracy_score(y_holdout, y_pred))"
   ]
  },
  {
   "cell_type": "code",
   "execution_count": 29,
   "metadata": {
    "ExecuteTime": {
     "end_time": "2019-04-29T23:48:17.765223Z",
     "start_time": "2019-04-29T23:48:17.738123Z"
    }
   },
   "outputs": [
    {
     "name": "stdout",
     "output_type": "stream",
     "text": [
      "[[48 16]\n",
      " [30 48]]\n",
      "Accuracy\n",
      "0.676056338028169\n",
      "              precision    recall  f1-score   support\n",
      "\n",
      "           0       0.62      0.75      0.68        64\n",
      "           1       0.75      0.62      0.68        78\n",
      "\n",
      "   micro avg       0.68      0.68      0.68       142\n",
      "   macro avg       0.68      0.68      0.68       142\n",
      "weighted avg       0.69      0.68      0.68       142\n",
      "\n"
     ]
    }
   ],
   "source": [
    "# Setup our KNN classifier and run a prediction based on our best neighbors (7)\n",
    "\n",
    "kclassifier = KNeighborsClassifier(n_neighbors=13)  \n",
    "kclassifier.fit(X_train, y_train)\n",
    "\n",
    "# Predicting the Test set results\n",
    "y_pred = kclassifier.predict(X_holdout) \n",
    "\n",
    "# Create a confusion matrix to illustrate our results\n",
    "cm_knn = confusion_matrix(y_holdout, y_pred)  \n",
    "print(cm_knn)  \n",
    "\n",
    "# Print our accuracy score\n",
    "print('Accuracy')  \n",
    "print(accuracy_score(y_holdout, y_pred))\n",
    "print(classification_report(y_holdout, y_pred))"
   ]
  },
  {
   "cell_type": "code",
   "execution_count": 30,
   "metadata": {
    "ExecuteTime": {
     "end_time": "2019-04-29T23:48:18.226173Z",
     "start_time": "2019-04-29T23:48:18.187899Z"
    }
   },
   "outputs": [
    {
     "name": "stdout",
     "output_type": "stream",
     "text": [
      "[[41 23]\n",
      " [30 48]]\n",
      "Accuracy\n",
      "0.6267605633802817\n",
      "              precision    recall  f1-score   support\n",
      "\n",
      "           0       0.58      0.64      0.61        64\n",
      "           1       0.68      0.62      0.64        78\n",
      "\n",
      "   micro avg       0.63      0.63      0.63       142\n",
      "   macro avg       0.63      0.63      0.63       142\n",
      "weighted avg       0.63      0.63      0.63       142\n",
      "\n"
     ]
    }
   ],
   "source": [
    "# Setup our SVM classifier and run a prediction using 'rbf' kernel\n",
    "\n",
    "svclassifier = SVC(kernel='linear')  \n",
    "svclassifier.fit(X_train, y_train) \n",
    "y_pred = svclassifier.predict(X_holdout)  \n",
    "# Create a confusion matrix to illustrate our results\n",
    "cm_svm = confusion_matrix(y_holdout, y_pred)  \n",
    "print(cm_svm)  \n",
    "\n",
    "# Print our accuracy score\n",
    "print('Accuracy')  \n",
    "print(accuracy_score(y_holdout, y_pred))\n",
    "print(classification_report(y_holdout, y_pred))"
   ]
  },
  {
   "cell_type": "code",
   "execution_count": 31,
   "metadata": {
    "ExecuteTime": {
     "end_time": "2019-04-29T23:48:18.932216Z",
     "start_time": "2019-04-29T23:48:18.705731Z"
    }
   },
   "outputs": [
    {
     "data": {
      "image/png": "[encoded data removed]",
      "text/plain": [
       "<Figure size 432x288 with 1 Axes>"
      ]
     },
     "metadata": {
      "needs_background": "light"
     },
     "output_type": "display_data"
    }
   ],
   "source": [
    "X = pca_data\n",
    "y = pca_target\n",
    "random_state = 12\n",
    "#X, y = X[y], y[y]\n",
    "n_samples, n_features = X.shape\n",
    "\n",
    "\n",
    "# #############################################################################\n",
    "# Classification and ROC analysis\n",
    "\n",
    "# Run classifier with cross-validation and plot ROC curves\n",
    "\n",
    "import sklearn.metrics as metrics\n",
    "# calculate the fpr and tpr for all thresholds of the classification\n",
    "\n",
    "\n",
    "#Random Forrest \n",
    "probs = rclassifier.predict_proba(X_holdout)\n",
    "preds = probs[:,1]\n",
    "fpr, tpr, threshold1 = metrics.roc_curve(y_holdout, preds)\n",
    "roc_auc = metrics.auc(fpr, tpr)\n",
    "\n",
    "\n",
    "\n",
    "\n",
    "# method I: plt\n",
    "import matplotlib.pyplot as plt\n",
    "plt.title('Receiver Operating Characteristic ')\n",
    "plt.plot(fpr, tpr, 'b', label = 'AUC RForest = %0.2f' % roc_auc)\n",
    "plt.legend(loc = 'lower right')\n",
    "plt.legend(loc = 'lower right')\n",
    "plt.plot([0, 1], [0, 1],'r--')\n",
    "plt.xlim([0, 1])\n",
    "plt.ylim([0, 1])\n",
    "plt.ylabel('True Positive Rate')\n",
    "plt.xlabel('False Positive Rate')\n",
    "plt.show()"
   ]
  },
  {
   "cell_type": "markdown",
   "metadata": {},
   "source": [
    "Accuracy of .83 is pretty good!"
   ]
  },
  {
   "cell_type": "code",
   "execution_count": 32,
   "metadata": {
    "ExecuteTime": {
     "end_time": "2019-04-29T23:48:20.621356Z",
     "start_time": "2019-04-29T23:48:20.345171Z"
    }
   },
   "outputs": [
    {
     "data": {
      "image/png": "[encoded data removed]",
      "text/plain": [
       "<Figure size 432x288 with 1 Axes>"
      ]
     },
     "metadata": {
      "needs_background": "light"
     },
     "output_type": "display_data"
    }
   ],
   "source": [
    "import sklearn.metrics as metrics\n",
    "# calculate the fpr and tpr for all thresholds of the classification\n",
    "\n",
    "\n",
    "#KNN\n",
    "probs = kclassifier.predict_proba(X_holdout)\n",
    "preds = probs[:,1]\n",
    "fpr, tpr, threshold1 = metrics.roc_curve(y_holdout, preds)\n",
    "roc_auc = metrics.auc(fpr, tpr)\n",
    "\n",
    "\n",
    "\n",
    "\n",
    "# method I: plt\n",
    "import matplotlib.pyplot as plt\n",
    "plt.title('Receiver Operating Characteristic')\n",
    "plt.plot(fpr, tpr, 'b', label = 'AUC KNN = %0.2f' % roc_auc)\n",
    "plt.legend(loc = 'lower right')\n",
    "plt.legend(loc = 'lower right')\n",
    "plt.plot([0, 1], [0, 1],'r--')\n",
    "plt.xlim([0, 1])\n",
    "plt.ylim([0, 1])\n",
    "plt.ylabel('True Positive Rate')\n",
    "plt.xlabel('False Positive Rate')\n",
    "plt.show()"
   ]
  },
  {
   "cell_type": "code",
   "execution_count": 33,
   "metadata": {
    "ExecuteTime": {
     "end_time": "2019-04-29T23:48:21.808444Z",
     "start_time": "2019-04-29T23:48:21.556087Z"
    }
   },
   "outputs": [
    {
     "data": {
      "image/png": "[encoded data removed]",
      "text/plain": [
       "<Figure size 432x288 with 2 Axes>"
      ]
     },
     "metadata": {
      "needs_background": "light"
     },
     "output_type": "display_data"
    }
   ],
   "source": [
    "# Create pretty plot of confusion matrix\n",
    "\n",
    "labels = ['0', '1']\n",
    "fig = plt.figure()\n",
    "ax = fig.add_subplot(111)\n",
    "cax = ax.matshow(cm_rf)\n",
    "plt.title('Confusion matrix of the classifier (RandForest)')\n",
    "fig.colorbar(cax)\n",
    "ax.set_xticklabels([''] + labels)\n",
    "ax.set_yticklabels([''] + labels)\n",
    "plt.xlabel('Predicted')\n",
    "plt.ylabel('True')\n",
    "plt.show()"
   ]
  },
  {
   "cell_type": "code",
   "execution_count": 34,
   "metadata": {
    "ExecuteTime": {
     "end_time": "2019-04-29T23:48:22.721626Z",
     "start_time": "2019-04-29T23:48:22.353642Z"
    }
   },
   "outputs": [
    {
     "data": {
      "image/png": "[encoded data removed]",
      "text/plain": [
       "<Figure size 432x288 with 2 Axes>"
      ]
     },
     "metadata": {
      "needs_background": "light"
     },
     "output_type": "display_data"
    }
   ],
   "source": [
    "# Create pretty plot of confusion matrix\n",
    "\n",
    "labels = ['0', '1']\n",
    "fig = plt.figure()\n",
    "ax = fig.add_subplot(111)\n",
    "cax = ax.matshow(cm_knn)\n",
    "plt.title('Confusion matrix of the classifier (KNN)')\n",
    "fig.colorbar(cax)\n",
    "ax.set_xticklabels([''] + labels)\n",
    "ax.set_yticklabels([''] + labels)\n",
    "plt.xlabel('Predicted')\n",
    "plt.ylabel('True')\n",
    "plt.show()"
   ]
  },
  {
   "cell_type": "code",
   "execution_count": 35,
   "metadata": {
    "ExecuteTime": {
     "end_time": "2019-04-29T23:48:23.481593Z",
     "start_time": "2019-04-29T23:48:23.170765Z"
    }
   },
   "outputs": [
    {
     "data": {
      "image/png": "[encoded data removed]",
      "text/plain": [
       "<Figure size 432x288 with 2 Axes>"
      ]
     },
     "metadata": {
      "needs_background": "light"
     },
     "output_type": "display_data"
    }
   ],
   "source": [
    "# Create pretty plot of confusion matrix\n",
    "\n",
    "labels = ['0', '1']\n",
    "fig = plt.figure()\n",
    "ax = fig.add_subplot(111)\n",
    "cax = ax.matshow(cm_svm)\n",
    "plt.title('Confusion matrix of the classifier (SVM)')\n",
    "fig.colorbar(cax)\n",
    "ax.set_xticklabels([''] + labels)\n",
    "ax.set_yticklabels([''] + labels)\n",
    "plt.xlabel('Predicted')\n",
    "plt.ylabel('True')\n",
    "plt.show()"
   ]
  },
  {
   "cell_type": "code",
   "execution_count": null,
   "metadata": {},
   "outputs": [],
   "source": []
  },
  {
   "cell_type": "code",
   "execution_count": null,
   "metadata": {},
   "outputs": [],
   "source": []
  }
 ],
 "metadata": {
  "kernelspec": {
   "display_name": "Python 3",
   "language": "python",
   "name": "python3"
  },
  "language_info": {
   "codemirror_mode": {
    "name": "ipython",
    "version": 3
   },
   "file_extension": ".py",
   "mimetype": "text/x-python",
   "name": "python",
   "nbconvert_exporter": "python",
   "pygments_lexer": "ipython3",
   "version": "3.7.1"
  },
  "nav_menu": {},
  "toc": {
   "navigate_menu": true,
   "number_sections": true,
   "sideBar": true,
   "threshold": 6,
   "toc_cell": false,
   "toc_section_display": "block",
   "toc_window_display": false
  }
 },
 "nbformat": 4,
 "nbformat_minor": 2
}
